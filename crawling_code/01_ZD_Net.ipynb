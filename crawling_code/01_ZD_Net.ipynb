{
 "cells": [
  {
   "cell_type": "code",
   "execution_count": 2,
   "metadata": {},
   "outputs": [
    {
     "name": "stdout",
     "output_type": "stream",
     "text": [
      "Collecting fake_useragent\n",
      "Installing collected packages: fake-useragent\n",
      "Successfully installed fake-useragent-0.1.11\n"
     ]
    }
   ],
   "source": [
    "# !pip install fake_useragent"
   ]
  },
  {
   "cell_type": "markdown",
   "metadata": {},
   "source": [
    "### Selenium으로 크롤링"
   ]
  },
  {
   "cell_type": "code",
   "execution_count": 1,
   "metadata": {},
   "outputs": [
    {
     "name": "stdout",
     "output_type": "stream",
     "text": [
      "Collecting selenium\n",
      "  Downloading https://files.pythonhosted.org/packages/80/d6/4294f0b4bce4de0abf13e17190289f9d0613b0a44e5dd6a7f5ca98459853/selenium-3.141.0-py2.py3-none-any.whl (904kB)\n",
      "Requirement already satisfied: urllib3 in c:\\programdata\\anaconda3\\lib\\site-packages (from selenium) (1.24.2)\n",
      "Installing collected packages: selenium\n",
      "Successfully installed selenium-3.141.0\n"
     ]
    }
   ],
   "source": [
    "# !pip install selenium"
   ]
  },
  {
   "cell_type": "code",
   "execution_count": 1,
   "metadata": {},
   "outputs": [],
   "source": [
    "from selenium import webdriver"
   ]
  },
  {
   "cell_type": "code",
   "execution_count": 3,
   "metadata": {},
   "outputs": [],
   "source": [
    "url= 'http://www.zdnet.co.kr/newskey/?lstcode=%EC%9D%B8%EA%B3%B5%EC%A7%80%EB%8A%A5'"
   ]
  },
  {
   "cell_type": "code",
   "execution_count": 4,
   "metadata": {},
   "outputs": [],
   "source": [
    "driver =  webdriver.Chrome()\n",
    "driver.get(url)"
   ]
  },
  {
   "cell_type": "code",
   "execution_count": 5,
   "metadata": {},
   "outputs": [
    {
     "data": {
      "text/plain": [
       "17"
      ]
     },
     "execution_count": 5,
     "metadata": {},
     "output_type": "execute_result"
    }
   ],
   "source": [
    "#여러데이터 모으기\n",
    "articles = driver.find_elements_by_css_selector(\"body > div.contentWrapper > div > div.left_cont > section > div\")\n",
    "len(articles)"
   ]
  },
  {
   "cell_type": "code",
   "execution_count": 6,
   "metadata": {},
   "outputs": [
    {
     "data": {
      "text/html": [
       "<div>\n",
       "<style scoped>\n",
       "    .dataframe tbody tr th:only-of-type {\n",
       "        vertical-align: middle;\n",
       "    }\n",
       "\n",
       "    .dataframe tbody tr th {\n",
       "        vertical-align: top;\n",
       "    }\n",
       "\n",
       "    .dataframe thead th {\n",
       "        text-align: right;\n",
       "    }\n",
       "</style>\n",
       "<table border=\"1\" class=\"dataframe\">\n",
       "  <thead>\n",
       "    <tr style=\"text-align: right;\">\n",
       "      <th></th>\n",
       "      <th>title</th>\n",
       "    </tr>\n",
       "  </thead>\n",
       "  <tbody>\n",
       "    <tr>\n",
       "      <td>0</td>\n",
       "      <td>아마존 AI 알렉사, 람보르기니에서도 사용한다</td>\n",
       "    </tr>\n",
       "    <tr>\n",
       "      <td>1</td>\n",
       "      <td>“5G·AI에 집중”…정부, 핵심기술 R&amp;D에 7천862억 투입</td>\n",
       "    </tr>\n",
       "    <tr>\n",
       "      <td>2</td>\n",
       "      <td>의료 AI 기업 루닛, 300억원 투자 유치</td>\n",
       "    </tr>\n",
       "    <tr>\n",
       "      <td>3</td>\n",
       "      <td>中 최초 고속도로 트럭 L4 자율주행 테스트</td>\n",
       "    </tr>\n",
       "    <tr>\n",
       "      <td>4</td>\n",
       "      <td>6일부터 美 AI 소프트웨어 수출 제한...민감한 중국</td>\n",
       "    </tr>\n",
       "  </tbody>\n",
       "</table>\n",
       "</div>"
      ],
      "text/plain": [
       "                                 title\n",
       "0            아마존 AI 알렉사, 람보르기니에서도 사용한다\n",
       "1  “5G·AI에 집중”…정부, 핵심기술 R&D에 7천862억 투입\n",
       "2             의료 AI 기업 루닛, 300억원 투자 유치\n",
       "3             中 최초 고속도로 트럭 L4 자율주행 테스트\n",
       "4       6일부터 美 AI 소프트웨어 수출 제한...민감한 중국"
      ]
     },
     "execution_count": 6,
     "metadata": {},
     "output_type": "execute_result"
    }
   ],
   "source": [
    "#제목만 뽑아내기\n",
    "import pandas as pd\n",
    "\n",
    "title_list = []\n",
    "for article in articles:\n",
    "    title = article.find_element_by_css_selector(\"div.assetText > a > h3\").text \n",
    "    title_list.append(title)\n",
    "title =pd.DataFrame(title_list, columns=['title'])\n",
    "title.head()"
   ]
  },
  {
   "cell_type": "code",
   "execution_count": 7,
   "metadata": {},
   "outputs": [
    {
     "data": {
      "text/html": [
       "<div>\n",
       "<style scoped>\n",
       "    .dataframe tbody tr th:only-of-type {\n",
       "        vertical-align: middle;\n",
       "    }\n",
       "\n",
       "    .dataframe tbody tr th {\n",
       "        vertical-align: top;\n",
       "    }\n",
       "\n",
       "    .dataframe thead th {\n",
       "        text-align: right;\n",
       "    }\n",
       "</style>\n",
       "<table border=\"1\" class=\"dataframe\">\n",
       "  <thead>\n",
       "    <tr style=\"text-align: right;\">\n",
       "      <th></th>\n",
       "      <th>link</th>\n",
       "    </tr>\n",
       "  </thead>\n",
       "  <tbody>\n",
       "    <tr>\n",
       "      <td>0</td>\n",
       "      <td>http://www.zdnet.co.kr/view/?no=20200107070507</td>\n",
       "    </tr>\n",
       "    <tr>\n",
       "      <td>1</td>\n",
       "      <td>http://www.zdnet.co.kr/view/?no=20200106170838</td>\n",
       "    </tr>\n",
       "    <tr>\n",
       "      <td>2</td>\n",
       "      <td>http://www.zdnet.co.kr/view/?no=20200106134518</td>\n",
       "    </tr>\n",
       "    <tr>\n",
       "      <td>3</td>\n",
       "      <td>http://www.zdnet.co.kr/view/?no=20200106090544</td>\n",
       "    </tr>\n",
       "    <tr>\n",
       "      <td>4</td>\n",
       "      <td>http://www.zdnet.co.kr/view/?no=20200106080955</td>\n",
       "    </tr>\n",
       "  </tbody>\n",
       "</table>\n",
       "</div>"
      ],
      "text/plain": [
       "                                             link\n",
       "0  http://www.zdnet.co.kr/view/?no=20200107070507\n",
       "1  http://www.zdnet.co.kr/view/?no=20200106170838\n",
       "2  http://www.zdnet.co.kr/view/?no=20200106134518\n",
       "3  http://www.zdnet.co.kr/view/?no=20200106090544\n",
       "4  http://www.zdnet.co.kr/view/?no=20200106080955"
      ]
     },
     "execution_count": 7,
     "metadata": {},
     "output_type": "execute_result"
    }
   ],
   "source": [
    "#링크만 뽑아내기\n",
    "\n",
    "link_list = []\n",
    "for article in articles:\n",
    "    link = article.find_element_by_css_selector(\"a\").get_attribute(\"href\")\n",
    "    link_list.append(link)\n",
    "link= pd.DataFrame(link_list, columns=['link'])\n",
    "link.head() #상위 5개 보여줌"
   ]
  },
  {
   "cell_type": "code",
   "execution_count": 12,
   "metadata": {},
   "outputs": [
    {
     "data": {
      "text/html": [
       "<div>\n",
       "<style scoped>\n",
       "    .dataframe tbody tr th:only-of-type {\n",
       "        vertical-align: middle;\n",
       "    }\n",
       "\n",
       "    .dataframe tbody tr th {\n",
       "        vertical-align: top;\n",
       "    }\n",
       "\n",
       "    .dataframe thead th {\n",
       "        text-align: right;\n",
       "    }\n",
       "</style>\n",
       "<table border=\"1\" class=\"dataframe\">\n",
       "  <thead>\n",
       "    <tr style=\"text-align: right;\">\n",
       "      <th></th>\n",
       "      <th>preview</th>\n",
       "    </tr>\n",
       "  </thead>\n",
       "  <tbody>\n",
       "    <tr>\n",
       "      <td>0</td>\n",
       "      <td>아마존 인공지능(AI) 비서인 알렉사를 람보르기니 차량과 리비안 차량에서 사용할 수...</td>\n",
       "    </tr>\n",
       "    <tr>\n",
       "      <td>1</td>\n",
       "      <td>정부가 올해 5G 인공지능(AI) 경쟁력을 강화하기 위한 핵심 기술 연구·개발(R&amp;...</td>\n",
       "    </tr>\n",
       "    <tr>\n",
       "      <td>2</td>\n",
       "      <td>의료 인공지능(AI) 대표기업 루닛(대표 서범석)이 국내외 7개 기관 투자자로부터 ...</td>\n",
       "    </tr>\n",
       "    <tr>\n",
       "      <td>3</td>\n",
       "      <td>중국에서 인공지능(AI) 자율주행 트럭으로 택배를 배송하는 미래가 한발짝 더 가까워...</td>\n",
       "    </tr>\n",
       "    <tr>\n",
       "      <td>4</td>\n",
       "      <td>미국 정부가 중국으로 수출되는 인공지능(AI) 소프트웨어를 제한하는 정책을 6일 발...</td>\n",
       "    </tr>\n",
       "  </tbody>\n",
       "</table>\n",
       "</div>"
      ],
      "text/plain": [
       "                                             preview\n",
       "0  아마존 인공지능(AI) 비서인 알렉사를 람보르기니 차량과 리비안 차량에서 사용할 수...\n",
       "1  정부가 올해 5G 인공지능(AI) 경쟁력을 강화하기 위한 핵심 기술 연구·개발(R&...\n",
       "2  의료 인공지능(AI) 대표기업 루닛(대표 서범석)이 국내외 7개 기관 투자자로부터 ...\n",
       "3  중국에서 인공지능(AI) 자율주행 트럭으로 택배를 배송하는 미래가 한발짝 더 가까워...\n",
       "4  미국 정부가 중국으로 수출되는 인공지능(AI) 소프트웨어를 제한하는 정책을 6일 발..."
      ]
     },
     "execution_count": 12,
     "metadata": {},
     "output_type": "execute_result"
    }
   ],
   "source": [
    "#상세내용 뽑아내기\n",
    "preview_list = []\n",
    "for article in articles:\n",
    "    preview = article.find_element_by_css_selector(\"div.assetText > a > p\").text\n",
    "    preview_list.append(preview)\n",
    "preview=pd.DataFrame(preview_list,columns=['preview'])\n",
    "preview.head()"
   ]
  },
  {
   "cell_type": "code",
   "execution_count": 13,
   "metadata": {},
   "outputs": [
    {
     "data": {
      "text/html": [
       "<div>\n",
       "<style scoped>\n",
       "    .dataframe tbody tr th:only-of-type {\n",
       "        vertical-align: middle;\n",
       "    }\n",
       "\n",
       "    .dataframe tbody tr th {\n",
       "        vertical-align: top;\n",
       "    }\n",
       "\n",
       "    .dataframe thead th {\n",
       "        text-align: right;\n",
       "    }\n",
       "</style>\n",
       "<table border=\"1\" class=\"dataframe\">\n",
       "  <thead>\n",
       "    <tr style=\"text-align: right;\">\n",
       "      <th></th>\n",
       "      <th>title</th>\n",
       "      <th>link</th>\n",
       "      <th>preview</th>\n",
       "    </tr>\n",
       "  </thead>\n",
       "  <tbody>\n",
       "    <tr>\n",
       "      <td>12</td>\n",
       "      <td>AI 시대 이용자보호 정책 전담조직 생긴다</td>\n",
       "      <td>http://www.zdnet.co.kr/view/?no=20200102111519</td>\n",
       "      <td>인공지능(AI) 시대 이용자 보호 정책의 전담조직이 마련됐다. 방송통신위원회는 2일...</td>\n",
       "    </tr>\n",
       "    <tr>\n",
       "      <td>13</td>\n",
       "      <td>산업부, 디지털통상 전문인력 양성한다</td>\n",
       "      <td>http://www.zdnet.co.kr/view/?no=20200102110525</td>\n",
       "      <td>산업통상자원부는 서울대 국제대학원(원장 정종호)과 손잡고 '디지털통상 아카데미' 시...</td>\n",
       "    </tr>\n",
       "    <tr>\n",
       "      <td>14</td>\n",
       "      <td>구글 딥마인드 \"의사보다 유방암 오판율 낮은 AI모델 개발\"</td>\n",
       "      <td>http://www.zdnet.co.kr/view/?no=20200102101522</td>\n",
       "      <td>구글 인공지능(AI) 전문 자회사 딥마인드가 유방암 검진 오판율을 줄이는 성과를 거...</td>\n",
       "    </tr>\n",
       "    <tr>\n",
       "      <td>15</td>\n",
       "      <td>마이너리티 리포트가 현실로…'AI+CCTV'로 범죄 예측 가능해진다</td>\n",
       "      <td>http://www.zdnet.co.kr/view/?no=20200102091441</td>\n",
       "      <td>국내 연구진이 과거 범죄 통계정보와 CCTV 영상을 자동 분석해 범죄 등 위험 상황...</td>\n",
       "    </tr>\n",
       "    <tr>\n",
       "      <td>16</td>\n",
       "      <td>뤼이드, 1억 건 넘는 AI 학습 데이터 공개</td>\n",
       "      <td>http://www.zdnet.co.kr/view/?no=20200102091438</td>\n",
       "      <td>AI 튜터 솔루션 기업 뤼이드(대표 장영준)가 교육 분야 AI 학습 데이터베이스 '...</td>\n",
       "    </tr>\n",
       "  </tbody>\n",
       "</table>\n",
       "</div>"
      ],
      "text/plain": [
       "                                    title  \\\n",
       "12                AI 시대 이용자보호 정책 전담조직 생긴다   \n",
       "13                   산업부, 디지털통상 전문인력 양성한다   \n",
       "14      구글 딥마인드 \"의사보다 유방암 오판율 낮은 AI모델 개발\"   \n",
       "15  마이너리티 리포트가 현실로…'AI+CCTV'로 범죄 예측 가능해진다   \n",
       "16              뤼이드, 1억 건 넘는 AI 학습 데이터 공개   \n",
       "\n",
       "                                              link  \\\n",
       "12  http://www.zdnet.co.kr/view/?no=20200102111519   \n",
       "13  http://www.zdnet.co.kr/view/?no=20200102110525   \n",
       "14  http://www.zdnet.co.kr/view/?no=20200102101522   \n",
       "15  http://www.zdnet.co.kr/view/?no=20200102091441   \n",
       "16  http://www.zdnet.co.kr/view/?no=20200102091438   \n",
       "\n",
       "                                              preview  \n",
       "12  인공지능(AI) 시대 이용자 보호 정책의 전담조직이 마련됐다. 방송통신위원회는 2일...  \n",
       "13  산업통상자원부는 서울대 국제대학원(원장 정종호)과 손잡고 '디지털통상 아카데미' 시...  \n",
       "14  구글 인공지능(AI) 전문 자회사 딥마인드가 유방암 검진 오판율을 줄이는 성과를 거...  \n",
       "15  국내 연구진이 과거 범죄 통계정보와 CCTV 영상을 자동 분석해 범죄 등 위험 상황...  \n",
       "16  AI 튜터 솔루션 기업 뤼이드(대표 장영준)가 교육 분야 AI 학습 데이터베이스 '...  "
      ]
     },
     "execution_count": 13,
     "metadata": {},
     "output_type": "execute_result"
    }
   ],
   "source": [
    "result=pd.concat([title, link,preview], axis=1)\n",
    "result.tail() #하위5개 보여줌"
   ]
  },
  {
   "cell_type": "code",
   "execution_count": 2,
   "metadata": {},
   "outputs": [],
   "source": [
    "# 함수로 만들기\n",
    "def get_articles(page):\n",
    "    driver =  webdriver.Chrome()\n",
    "    url = 'http://www.zdnet.co.kr/newskey/?lstcode=%EC%9D%B8%EA%B3%B5%EC%A7%80%EB%8A%A5&page={}'.format(page)\n",
    "    driver.get(url)\n",
    "    #여러데이터 모으기\n",
    "    articles = driver.find_elements_by_css_selector(\"body > div.contentWrapper > div > div.left_cont > section > div\")\n",
    "    \n",
    "    #제목\n",
    "    title_list = []\n",
    "    for article in articles:\n",
    "        title = article.find_element_by_css_selector(\"div.assetText > a > h3\").text \n",
    "        title_list.append(title)\n",
    "    title =pd.DataFrame(title_list, columns=['title'])\n",
    "    \n",
    "    #링크만 뽑아내기\n",
    "    link_list = []\n",
    "    for article in articles:\n",
    "        link = article.find_element_by_css_selector(\"a\").get_attribute(\"href\")\n",
    "        link_list.append(link)\n",
    "    link= pd.DataFrame(link_list, columns=['link'])\n",
    "    \n",
    "    #상세내용 뽑아내기\n",
    "    preview_list = []\n",
    "    for article in articles:\n",
    "        preview = article.find_element_by_css_selector(\"div.assetText > a > p\").text\n",
    "        preview_list.append(preview)\n",
    "    preview=pd.DataFrame(preview_list,columns=['preview'])\n",
    "    \n",
    "    result=pd.concat([title, link, preview], axis=1)\n",
    "    driver.quit()\n",
    "    return result"
   ]
  },
  {
   "cell_type": "code",
   "execution_count": 3,
   "metadata": {},
   "outputs": [],
   "source": [
    "# 자동으로 일정 페이지 크롤링해줘서 데이터프레임 만들어주기\n",
    "def zd_net(startpage, endpage):\n",
    "    import pandas as pd\n",
    "    df=pd.DataFrame([])\n",
    "    for i in range(startpage, endpage+1):\n",
    "        temp=get_articles(i)\n",
    "        df= pd.concat([df,temp],axis=0)\n",
    "    #index 번호 다시 매기기\n",
    "    df.reset_index(drop=True, inplace=True)\n",
    "    return df\n",
    "      "
   ]
  },
  {
   "cell_type": "code",
   "execution_count": 4,
   "metadata": {},
   "outputs": [],
   "source": [
    "final_df= zd_net(1,4)"
   ]
  },
  {
   "cell_type": "code",
   "execution_count": 5,
   "metadata": {},
   "outputs": [
    {
     "data": {
      "text/html": [
       "<div>\n",
       "<style scoped>\n",
       "    .dataframe tbody tr th:only-of-type {\n",
       "        vertical-align: middle;\n",
       "    }\n",
       "\n",
       "    .dataframe tbody tr th {\n",
       "        vertical-align: top;\n",
       "    }\n",
       "\n",
       "    .dataframe thead th {\n",
       "        text-align: right;\n",
       "    }\n",
       "</style>\n",
       "<table border=\"1\" class=\"dataframe\">\n",
       "  <thead>\n",
       "    <tr style=\"text-align: right;\">\n",
       "      <th></th>\n",
       "      <th>title</th>\n",
       "      <th>link</th>\n",
       "      <th>preview</th>\n",
       "    </tr>\n",
       "  </thead>\n",
       "  <tbody>\n",
       "    <tr>\n",
       "      <td>74</td>\n",
       "      <td>구글, AI가 선별한 유익한 기사 상단에 먼저 표출</td>\n",
       "      <td>http://www.zdnet.co.kr/view/?no=20191212095140</td>\n",
       "      <td>구글이 뉴스의 홍수 속에서 보다 풍부한 내용을 담고 있는 뉴스만 골라 검색 결과 상...</td>\n",
       "    </tr>\n",
       "    <tr>\n",
       "      <td>75</td>\n",
       "      <td>삼성전기, AI 기술로 '1천억원' 아낀다</td>\n",
       "      <td>http://www.zdnet.co.kr/view/?no=20191212091448</td>\n",
       "      <td>삼성전기가 인공지능 기술을 통해 1천41억원에 달하는 비용을 절감하는 성과를 창출했...</td>\n",
       "    </tr>\n",
       "    <tr>\n",
       "      <td>76</td>\n",
       "      <td>내년 ICT 부처 예산, AI·소부장 중심으로 확대</td>\n",
       "      <td>http://www.zdnet.co.kr/view/?no=20191211150537</td>\n",
       "      <td>10일 국회 본회의를 통과한 내년도 예산안 기금운용계획 수정안에서 ICT 산업을 담...</td>\n",
       "    </tr>\n",
       "  </tbody>\n",
       "</table>\n",
       "</div>"
      ],
      "text/plain": [
       "                           title  \\\n",
       "74  구글, AI가 선별한 유익한 기사 상단에 먼저 표출   \n",
       "75       삼성전기, AI 기술로 '1천억원' 아낀다   \n",
       "76  내년 ICT 부처 예산, AI·소부장 중심으로 확대   \n",
       "\n",
       "                                              link  \\\n",
       "74  http://www.zdnet.co.kr/view/?no=20191212095140   \n",
       "75  http://www.zdnet.co.kr/view/?no=20191212091448   \n",
       "76  http://www.zdnet.co.kr/view/?no=20191211150537   \n",
       "\n",
       "                                              preview  \n",
       "74  구글이 뉴스의 홍수 속에서 보다 풍부한 내용을 담고 있는 뉴스만 골라 검색 결과 상...  \n",
       "75  삼성전기가 인공지능 기술을 통해 1천41억원에 달하는 비용을 절감하는 성과를 창출했...  \n",
       "76  10일 국회 본회의를 통과한 내년도 예산안 기금운용계획 수정안에서 ICT 산업을 담...  "
      ]
     },
     "execution_count": 5,
     "metadata": {},
     "output_type": "execute_result"
    }
   ],
   "source": [
    "final_df.tail(3)"
   ]
  },
  {
   "cell_type": "code",
   "execution_count": 6,
   "metadata": {},
   "outputs": [],
   "source": [
    "final_df.to_csv(\"zd_net.csv\", index=False, encoding='utf-8' )"
   ]
  },
  {
   "cell_type": "code",
   "execution_count": 22,
   "metadata": {},
   "outputs": [],
   "source": [
    "## 참고\n",
    "### csv파일을 여기서 읽고 싶다면\n",
    "import pandas as pd\n",
    "final_df = pd.read_csv(\"zd_net.csv\", encoding=\"utf-8\")\n"
   ]
  },
  {
   "cell_type": "markdown",
   "metadata": {},
   "source": [
    "### 만약 엑셀에서 열고 싶다면\n",
    "1. 엑셀 열기\n",
    "2. 데이터 탭 > 외부데이터 가져오기> 아무거나 누르기> 모든파일> csv 파일선택\n",
    "3. 언어를 utf-8로 설정하고 열기"
   ]
  },
  {
   "cell_type": "code",
   "execution_count": null,
   "metadata": {},
   "outputs": [],
   "source": []
  }
 ],
 "metadata": {
  "kernelspec": {
   "display_name": "Python 3",
   "language": "python",
   "name": "python3"
  },
  "language_info": {
   "codemirror_mode": {
    "name": "ipython",
    "version": 3
   },
   "file_extension": ".py",
   "mimetype": "text/x-python",
   "name": "python",
   "nbconvert_exporter": "python",
   "pygments_lexer": "ipython3",
   "version": "3.7.4"
  }
 },
 "nbformat": 4,
 "nbformat_minor": 2
}
