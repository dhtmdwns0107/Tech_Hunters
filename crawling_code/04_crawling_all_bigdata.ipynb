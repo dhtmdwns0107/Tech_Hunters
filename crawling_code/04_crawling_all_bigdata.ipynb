{
 "cells": [
  {
   "cell_type": "code",
   "execution_count": 1,
   "metadata": {},
   "outputs": [],
   "source": [
    "from selenium import webdriver\n",
    "import pymongo\n",
    "import pandas as pd\n",
    "import requests\n",
    "from bs4 import BeautifulSoup"
   ]
  },
  {
   "cell_type": "code",
   "execution_count": 2,
   "metadata": {},
   "outputs": [],
   "source": [
    "# 함수로 만들기\n",
    "def get_articles(page):\n",
    "    driver =  webdriver.Chrome()\n",
    "    url = 'https://search.zdnet.co.kr/?kwd=%EB%B9%85%EB%8D%B0%EC%9D%B4%ED%84%B0&page={}'.format(page)\n",
    "    driver.get(url)\n",
    "    #여러데이터 모으기\n",
    "    articles = driver.find_elements_by_css_selector(\"body > div.contentWrapper > div > div.left_cont > section > div\")\n",
    "    \n",
    "    #제목\n",
    "    title_list = []\n",
    "    for article in articles:\n",
    "        title = article.find_element_by_css_selector(\"div.assetText > a > h3\").text \n",
    "        title_list.append(title)\n",
    "    title =pd.DataFrame(title_list, columns=['title'])\n",
    "    \n",
    "    #링크만 뽑아내기\n",
    "    link_list = []\n",
    "    for article in articles:\n",
    "        link = article.find_element_by_css_selector(\"a\").get_attribute(\"href\")\n",
    "        link_list.append(link)\n",
    "    link= pd.DataFrame(link_list, columns=['link'])\n",
    "    \n",
    "    #상세내용 뽑아내기\n",
    "    preview_list = []\n",
    "    for article in articles:\n",
    "        preview = article.find_element_by_css_selector(\"div.assetText > a > p\").text[:200]\n",
    "        preview_list.append(preview)\n",
    "    preview=pd.DataFrame(preview_list,columns=['preview'])\n",
    "    \n",
    "    result=pd.concat([title, link,preview], axis=1)\n",
    "    driver.quit()\n",
    "    return result\n",
    "\n",
    "# 자동으로 일정 페이지 크롤링해줘서 데이터프레임 만들어주기\n",
    "def zd_net(startpage, endpage):\n",
    "    import pandas as pd\n",
    "    df=pd.DataFrame([])\n",
    "    for i in range(startpage, endpage+1):\n",
    "        temp=get_articles(i)\n",
    "        df= pd.concat([df,temp],axis=0)\n",
    "    #index 번호 다시 매기기\n",
    "    df.reset_index(drop=True, inplace=True)\n",
    "    return df\n",
    "final_df= zd_net(1,2)      "
   ]
  },
  {
   "cell_type": "code",
   "execution_count": 3,
   "metadata": {},
   "outputs": [],
   "source": [
    "final_df.to_csv(\"csv_files/zd_net_bigdata.csv\", index=False, encoding='utf-8' )\n"
   ]
  },
  {
   "cell_type": "code",
   "execution_count": 18,
   "metadata": {},
   "outputs": [
    {
     "data": {
      "text/plain": [
       "<Response [200]>"
      ]
     },
     "execution_count": 18,
     "metadata": {},
     "output_type": "execute_result"
    }
   ],
   "source": [
    "url= 'http://www.itworld.co.kr/t/54649/%EB%B9%85%20%EB%8D%B0%EC%9D%B4%ED%84%B0?page=2'\n",
    "domain = 'http://www.itworld.co.kr'\n",
    "# headers = {\n",
    "#     \"user-agent\": UserAgent().chrome,\n",
    "#     \"referer\": \"https://finance.daum.net/exchanges\",\n",
    "# }\n",
    "response= requests.get(url)\n",
    "response"
   ]
  },
  {
   "cell_type": "code",
   "execution_count": 19,
   "metadata": {},
   "outputs": [],
   "source": [
    "# 2. BeautifulSoup을 이용하여 css selector를 사용할 수 있는 객체로 파싱\n",
    "# dom은 HTML 전체를 뷰티풀숩이 객체로 가져온것\n",
    "dom = BeautifulSoup(response.content, \"html.parser\")\n",
    "# 3. css selector를 이용하여 원하는 데이터 수집\n",
    "# select : 여러개의 엘리먼트를 리스트로 가져옴\n",
    "# select_one : 하나의 엘리먼트 객체를 가져옴\n",
    "# dom"
   ]
  },
  {
   "cell_type": "code",
   "execution_count": 22,
   "metadata": {},
   "outputs": [
    {
     "data": {
      "text/plain": [
       "'대규모 병렬 처리(Massively Parallel Processing, MPP) 데이터베이스는 데이터와 쿼리를 일반 서버로 구성된 클러스터의 각 노드로 분산시킨다. 그린플럼(Greenplum)의 MPP 데이터 웨어하우스 구축 방법은 독특하다. 기존  ...'"
      ]
     },
     "execution_count": 22,
     "metadata": {},
     "output_type": "execute_result"
    }
   ],
   "source": [
    "articles =dom.select('.news_list_')\n",
    "articles[0].select_one('.news_list_has_thumb_size > .news_body_summary').text.replace(\"\\n\", \"\").replace(\"\\t\", \"\").strip()"
   ]
  },
  {
   "cell_type": "code",
   "execution_count": 13,
   "metadata": {},
   "outputs": [
    {
     "data": {
      "text/html": [
       "<div>\n",
       "<style scoped>\n",
       "    .dataframe tbody tr th:only-of-type {\n",
       "        vertical-align: middle;\n",
       "    }\n",
       "\n",
       "    .dataframe tbody tr th {\n",
       "        vertical-align: top;\n",
       "    }\n",
       "\n",
       "    .dataframe thead th {\n",
       "        text-align: right;\n",
       "    }\n",
       "</style>\n",
       "<table border=\"1\" class=\"dataframe\">\n",
       "  <thead>\n",
       "    <tr style=\"text-align: right;\">\n",
       "      <th></th>\n",
       "      <th>title</th>\n",
       "      <th>link</th>\n",
       "      <th>preview</th>\n",
       "    </tr>\n",
       "  </thead>\n",
       "  <tbody>\n",
       "    <tr>\n",
       "      <td>10</td>\n",
       "      <td>몽고DB, 알리바바 클라우드와 파트너십 체결</td>\n",
       "      <td>http://www.itworld.co.kr/t/54649/%EB%B9%85%20%...</td>\n",
       "      <td>몽고DB가 ‘서비스로서의 몽고DB(MongoDB-as-a-Service)’ 솔루션을...</td>\n",
       "    </tr>\n",
       "    <tr>\n",
       "      <td>11</td>\n",
       "      <td>“미래는 나의 것” NoSQL, 뉴 스택 소프트웨어의  확실한 선두주자</td>\n",
       "      <td>http://www.itworld.co.kr/t/54649/%EB%B9%85%20%...</td>\n",
       "      <td>관계형 데이터베이스는 지난 몇십 년 동안 엄청난 인기를 누렸지만, 모건 스탠리의 최...</td>\n",
       "    </tr>\n",
       "    <tr>\n",
       "      <td>12</td>\n",
       "      <td>\"경기날 음료 판매량까지 정확히 예측\"··· NBA 마이애미히트의 애널리틱스 사례</td>\n",
       "      <td>http://www.itworld.co.kr/t/54649/%EB%B9%85%20%...</td>\n",
       "      <td>오늘날 스포츠 팬은 스마트폰 덕분에 행복하다. 다양한 모바일 앱에 통해 더 편리하게...</td>\n",
       "    </tr>\n",
       "    <tr>\n",
       "      <td>13</td>\n",
       "      <td>롯데정보통신, SAP 퀄트릭스 파트너 네트워크 합류...“고객경험 분야 서비스 역량...</td>\n",
       "      <td>http://www.itworld.co.kr/t/54649/%EB%B9%85%20%...</td>\n",
       "      <td>롯데정보통신은 ‘퀄트릭스 파트너 네트워크(Qualtrics Partner Netwo...</td>\n",
       "    </tr>\n",
       "    <tr>\n",
       "      <td>14</td>\n",
       "      <td>'데이터 속 가치 찾기' 빅데이터 분석의 정의와 활용도</td>\n",
       "      <td>http://www.itworld.co.kr/t/54649/%EB%B9%85%20%...</td>\n",
       "      <td>데이터는 무엇이고 빅데이터는 과연 무엇일까? 그리고 그 두 가지의 차이를 확실히 구...</td>\n",
       "    </tr>\n",
       "  </tbody>\n",
       "</table>\n",
       "</div>"
      ],
      "text/plain": [
       "                                                title  \\\n",
       "10                           몽고DB, 알리바바 클라우드와 파트너십 체결   \n",
       "11           “미래는 나의 것” NoSQL, 뉴 스택 소프트웨어의  확실한 선두주자    \n",
       "12      \"경기날 음료 판매량까지 정확히 예측\"··· NBA 마이애미히트의 애널리틱스 사례   \n",
       "13  롯데정보통신, SAP 퀄트릭스 파트너 네트워크 합류...“고객경험 분야 서비스 역량...   \n",
       "14                    '데이터 속 가치 찾기' 빅데이터 분석의 정의와 활용도    \n",
       "\n",
       "                                                 link  \\\n",
       "10  http://www.itworld.co.kr/t/54649/%EB%B9%85%20%...   \n",
       "11  http://www.itworld.co.kr/t/54649/%EB%B9%85%20%...   \n",
       "12  http://www.itworld.co.kr/t/54649/%EB%B9%85%20%...   \n",
       "13  http://www.itworld.co.kr/t/54649/%EB%B9%85%20%...   \n",
       "14  http://www.itworld.co.kr/t/54649/%EB%B9%85%20%...   \n",
       "\n",
       "                                              preview  \n",
       "10  몽고DB가 ‘서비스로서의 몽고DB(MongoDB-as-a-Service)’ 솔루션을...  \n",
       "11  관계형 데이터베이스는 지난 몇십 년 동안 엄청난 인기를 누렸지만, 모건 스탠리의 최...  \n",
       "12  오늘날 스포츠 팬은 스마트폰 덕분에 행복하다. 다양한 모바일 앱에 통해 더 편리하게...  \n",
       "13  롯데정보통신은 ‘퀄트릭스 파트너 네트워크(Qualtrics Partner Netwo...  \n",
       "14  데이터는 무엇이고 빅데이터는 과연 무엇일까? 그리고 그 두 가지의 차이를 확실히 구...  "
      ]
     },
     "execution_count": 13,
     "metadata": {},
     "output_type": "execute_result"
    }
   ],
   "source": [
    "datas = []\n",
    "\n",
    "for article in articles:\n",
    "    try:\n",
    "        preview = article.select_one('.news_list_has_thumb_size > .news_body_summary').text.replace(\"\\n\", \"\").replace(\"\\t\", \"\").strip()\n",
    "    except:\n",
    "        preview = article.select_one('.news_list_full_size > .news_body_summary').text.replace(\"\\n\", \"\").replace(\"\\t\", \"\").strip()\n",
    "    datas.append({\n",
    "        \"title\" : article.select_one('div > h4 > a').text,\n",
    "        \"link\" : domain + article.select_one('div > h4 > a')['href'],\n",
    "        \"preview\": preview\n",
    "    })\n",
    "\n",
    "bigdata_df = pd.DataFrame(datas)\n",
    "bigdata_df.tail()"
   ]
  },
  {
   "cell_type": "code",
   "execution_count": 4,
   "metadata": {},
   "outputs": [],
   "source": [
    "#Techcrunch\n",
    "def get_itworld(page):\n",
    "    \n",
    "    url= 'http://www.itworld.co.kr/t/54649/%EB%B9%85%20%EB%8D%B0%EC%9D%B4%ED%84%B0?page={}'.format(page)\n",
    "    domain = 'http://www.itworld.co.kr'\n",
    "\n",
    "    response= requests.get(url)\n",
    "    # 2. BeautifulSoup을 이용하여 css selector를 사용할 수 있는 객체로 파싱\n",
    "    # dom은 HTML 전체를 뷰티풀숩이 객체로 가져온것\n",
    "    dom = BeautifulSoup(response.content, \"html.parser\")\n",
    "    articles =dom.select('.news_list_')\n",
    "    \n",
    "    datas = []\n",
    "\n",
    "    for article in articles:\n",
    "        try:\n",
    "            preview = article.select_one('.news_list_has_thumb_size > .news_body_summary').text.replace(\"\\n\", \"\").replace(\"\\t\", \"\").strip()\n",
    "        except:\n",
    "            preview = article.select_one('.news_list_full_size > .news_body_summary').text.replace(\"\\n\", \"\").replace(\"\\t\", \"\").strip()\n",
    "        datas.append({\n",
    "            \"title\" : article.select_one('div > h4 > a').text,\n",
    "            \"link\" : domain + article.select_one('div > h4 > a')['href'],\n",
    "            \"preview\": preview\n",
    "        })\n",
    "\n",
    "    bigdata_df = pd.DataFrame(datas)\n",
    "    return bigdata_df\n",
    "\n",
    "# 자동으로 일정 페이지 크롤링해줘서 데이터프레임 만들어주기\n",
    "def Tech_itworld(startpage, endpage):\n",
    "    import pandas as pd\n",
    "    df=pd.DataFrame([])\n",
    "    for i in range(startpage, endpage+1):\n",
    "        temp=get_itworld(i)\n",
    "        df= pd.concat([df,temp],axis=0)\n",
    "    #index 번호 다시 매기기\n",
    "    df.reset_index(drop=True, inplace=True)\n",
    "    return df"
   ]
  },
  {
   "cell_type": "code",
   "execution_count": 5,
   "metadata": {},
   "outputs": [],
   "source": [
    "final_df2= Tech_itworld(1,2)\n",
    "final_df2.to_csv(\"csv_files/Tech_itworld_bigdata.csv\", index=False, encoding='utf-8' )"
   ]
  },
  {
   "cell_type": "code",
   "execution_count": 6,
   "metadata": {},
   "outputs": [],
   "source": [
    "import pymongo\n",
    "import pandas as pd\n",
    "import requests\n",
    "\n",
    "# 데이터베이스 서버 연결\n",
    "client = pymongo.MongoClient(\"mongodb://localhost:27017/\")\n",
    "\n",
    "#컬렉션 삭제\n",
    "client.crawling.drop_collection(\"news_db_bigdata\")\n",
    "\n",
    "# 데이터 베이스와 컬렉션 생성\n",
    "#서버.데이터베이스.컬렉션\n",
    "news_db_bigdata = client.crawling.news_db_bigdata\n",
    "\n",
    "\n",
    "final_df=pd.read_csv(\"csv_files/zd_net_bigdata.csv\",encoding=\"utf-8\")\n",
    "final_df2=pd.read_csv(\"csv_files/Tech_itworld_bigdata.csv\",encoding=\"utf-8\")\n",
    "\n",
    "items1= final_df.to_dict(\"records\")\n",
    "items2= final_df2.to_dict(\"records\")\n",
    "\n",
    "ids=news_db_bigdata.insert(items1)\n",
    "ids=news_db_bigdata.insert(items2)"
   ]
  },
  {
   "cell_type": "code",
   "execution_count": null,
   "metadata": {},
   "outputs": [],
   "source": []
  }
 ],
 "metadata": {
  "kernelspec": {
   "display_name": "Python 3",
   "language": "python",
   "name": "python3"
  },
  "language_info": {
   "codemirror_mode": {
    "name": "ipython",
    "version": 3
   },
   "file_extension": ".py",
   "mimetype": "text/x-python",
   "name": "python",
   "nbconvert_exporter": "python",
   "pygments_lexer": "ipython3",
   "version": "3.7.4"
  }
 },
 "nbformat": 4,
 "nbformat_minor": 2
}
