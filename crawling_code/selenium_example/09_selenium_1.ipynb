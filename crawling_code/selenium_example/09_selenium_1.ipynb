{
 "cells": [
  {
   "cell_type": "markdown",
   "metadata": {},
   "source": [
    "### Selenium\n",
    "- 브라우저를 직접 실행하여 자동화 하고 브라우저 상에 있는 데이터를 수집\n",
    "- 웹 테스트 자동화를 위해서 만들어진 라이브러리\n",
    "- 다양한 브라우져 지원\n",
    "- 다양한 언어를 지원"
   ]
  },
  {
   "cell_type": "code",
   "execution_count": null,
   "metadata": {},
   "outputs": [],
   "source": [
    "#### 설정\n",
    "- selenium chrome driver 설정\n",
    "    - 크롬 드라이버 다운로드\n",
    "    - 본인 컴퓨터에 맞는 드라이버 다운로드 필요\n",
    "    - 사용중인 주피터 노트북과 같은 디렉토리에 크롬 드라이버 파일 업로드\n",
    "    - mac\n",
    "        - chromedriver 파일을 /usr/local/bin 디렉토리로 복사\n",
    "        - `sudo cp ~/Downloads/chromedriver /usr/local/bin`\n",
    "    - windows \n",
    "        - 환경변수 추가\n",
    "        - 내컴퓨터 - 속성 -  고급시스템설정 - 환경변수\n",
    "        - chromedriver의 path를 추가\n",
    "- selenium python package 설치\n",
    "    - sudo pip install selenium\n",
    "    - conda install -c conda-forge selenium\n"
   ]
  },
  {
   "cell_type": "code",
   "execution_count": 1,
   "metadata": {},
   "outputs": [],
   "source": [
    "from selenium import webdriver\n"
   ]
  },
  {
   "cell_type": "code",
   "execution_count": 2,
   "metadata": {},
   "outputs": [],
   "source": [
    "driver = webdriver.Chrome()"
   ]
  },
  {
   "cell_type": "code",
   "execution_count": 3,
   "metadata": {},
   "outputs": [],
   "source": [
    "# 페이지 이동 : get\n",
    "driver.get(\"https://daum.net\")\n",
    " "
   ]
  },
  {
   "cell_type": "code",
   "execution_count": 4,
   "metadata": {},
   "outputs": [],
   "source": [
    "# 윈도우 사이즈 조절\n",
    "# 보여져야지만 데이터를 가져올 수 있는 경우가 있기 때문에 사이즈 조절을 잘 해야한다\n",
    "driver.set_window_size(800, 600)"
   ]
  },
  {
   "cell_type": "code",
   "execution_count": 5,
   "metadata": {},
   "outputs": [],
   "source": [
    "# 스크롤 위치 조절\n",
    "# 자바스크립트 코드를 브라우저에서 실행시켜주는것\n",
    "driver.execute_script(\"window.scrollTo(200,300);\")"
   ]
  },
  {
   "cell_type": "code",
   "execution_count": 11,
   "metadata": {},
   "outputs": [],
   "source": [
    "# alert 창 다루기\n",
    "driver.execute_script(\"alert('FastCampus!!');\")"
   ]
  },
  {
   "cell_type": "code",
   "execution_count": 12,
   "metadata": {},
   "outputs": [],
   "source": [
    "alert = driver.switch_to.alert\n",
    "alert.accept()"
   ]
  },
  {
   "cell_type": "code",
   "execution_count": 6,
   "metadata": {},
   "outputs": [],
   "source": [
    "# input 태그에 문자열 입력\n",
    "#driver.find_element_by_css_selectorele :엘리먼트 1개\n",
    "#driver.find_elements_by_css_selectorele :엘리먼트 여러개 선택해서 리스트로 리턴\n",
    "driver.find_element_by_css_selector(\"#q\").send_keys(\"패스트캠퍼스\")   #패스트캠퍼스라고 엘리먼트에 입력\n"
   ]
  },
  {
   "cell_type": "code",
   "execution_count": 7,
   "metadata": {},
   "outputs": [],
   "source": [
    "driver.find_element_by_css_selector(\"#q\").clear()\n",
    "driver.find_element_by_css_selector(\"#q\").send_keys(\"파이썬\") "
   ]
  },
  {
   "cell_type": "code",
   "execution_count": 8,
   "metadata": {},
   "outputs": [],
   "source": [
    "# button 클릭\n",
    "driver.find_element_by_css_selector(\".inner_search> .btn_search\").click()"
   ]
  },
  {
   "cell_type": "code",
   "execution_count": 9,
   "metadata": {},
   "outputs": [],
   "source": [
    "# 브라우저 종료\n",
    "driver.quit()"
   ]
  },
  {
   "cell_type": "markdown",
   "metadata": {},
   "source": [
    "#### Darksky api 키 재발급 자동화 \n",
    "- https://darksky.net/dev\n"
   ]
  },
  {
   "cell_type": "code",
   "execution_count": 28,
   "metadata": {},
   "outputs": [],
   "source": [
    "# 브라우저 열기\n",
    "driver = webdriver.Chrome()"
   ]
  },
  {
   "cell_type": "code",
   "execution_count": 29,
   "metadata": {},
   "outputs": [],
   "source": [
    "# 로그인 페이지 이동\n",
    "driver.get(\"https://darksky.net/dev/login\")"
   ]
  },
  {
   "cell_type": "code",
   "execution_count": 32,
   "metadata": {},
   "outputs": [],
   "source": [
    "# 이메일, 패스워드 입력\n",
    "email = \"dalbeetm@gmail.com\"\n",
    "pw = \"qldrh199412\"\n",
    "driver.find_element_by_css_selector('#email')\\\n",
    ".send_keys(email)\n",
    "driver.find_element_by_css_selector('#password')\\\n",
    ".send_keys(pw)\n"
   ]
  },
  {
   "cell_type": "code",
   "execution_count": 33,
   "metadata": {},
   "outputs": [],
   "source": [
    "# 로그인 버튼 클릭\n",
    "driver.find_element_by_css_selector('[type=\"submit\"]').click()"
   ]
  },
  {
   "cell_type": "code",
   "execution_count": 34,
   "metadata": {},
   "outputs": [],
   "source": [
    "# 리셋 시크릿 버튼 클릭\n",
    "driver.find_element_by_css_selector('.reset-key').click()"
   ]
  },
  {
   "cell_type": "code",
   "execution_count": null,
   "metadata": {},
   "outputs": [],
   "source": [
    "#### 만약 iframe을 사용하는 페이지라면 driver.switch_to.iframe 해서 데이터를 수집해야한다"
   ]
  },
  {
   "cell_type": "code",
   "execution_count": 35,
   "metadata": {},
   "outputs": [],
   "source": [
    "# alert 확인 버튼 클릭\n",
    "alert = driver.switch_to.alert\n",
    "alert.accept()"
   ]
  },
  {
   "cell_type": "code",
   "execution_count": 36,
   "metadata": {},
   "outputs": [
    {
     "data": {
      "text/plain": [
       "'742e892bfbf62a695185924c6a21f6e6'"
      ]
     },
     "execution_count": 36,
     "metadata": {},
     "output_type": "execute_result"
    }
   ],
   "source": [
    "# 바뀐 키값 출력\n",
    "s_key = driver.find_element_by_css_selector('#api-key').get_attribute(\"value\")\n",
    "s_key"
   ]
  },
  {
   "cell_type": "code",
   "execution_count": 37,
   "metadata": {},
   "outputs": [],
   "source": [
    "# 브라우저 종료\n",
    "driver.quit()"
   ]
  },
  {
   "cell_type": "code",
   "execution_count": 42,
   "metadata": {},
   "outputs": [],
   "source": [
    "def get_darksky_key(email, pw):\n",
    "    driver = webdriver.Chrome()\n",
    "    driver.get(\"https://darksky.net/dev/login\")\n",
    "    driver.find_element_by_css_selector('#email')\\\n",
    "    .send_keys(email)\n",
    "    driver.find_element_by_css_selector('#password')\\\n",
    "    .send_keys(pw)\n",
    "    driver.find_element_by_css_selector('[type=\"submit\"]').click()\n",
    "    driver.find_element_by_css_selector('.reset-key').click()\n",
    "    alert = driver.switch_to.alert\n",
    "    alert.accept()\n",
    "    s_key = driver.find_element_by_css_selector('#api-key').get_attribute(\"value\")\n",
    "    driver.quit()\n",
    "    return s_key"
   ]
  },
  {
   "cell_type": "code",
   "execution_count": 43,
   "metadata": {},
   "outputs": [
    {
     "data": {
      "text/plain": [
       "'21b216079e3fcf26cbdda344362651f9'"
      ]
     },
     "execution_count": 43,
     "metadata": {},
     "output_type": "execute_result"
    }
   ],
   "source": [
    "get_darksky_key(\"dalbeetm@gmail.com\",\"qldrh199412\")"
   ]
  },
  {
   "cell_type": "code",
   "execution_count": null,
   "metadata": {},
   "outputs": [],
   "source": []
  }
 ],
 "metadata": {
  "kernelspec": {
   "display_name": "Python 3",
   "language": "python",
   "name": "python3"
  },
  "language_info": {
   "codemirror_mode": {
    "name": "ipython",
    "version": 3
   },
   "file_extension": ".py",
   "mimetype": "text/x-python",
   "name": "python",
   "nbconvert_exporter": "python",
   "pygments_lexer": "ipython3",
   "version": "3.7.4"
  }
 },
 "nbformat": 4,
 "nbformat_minor": 2
}
