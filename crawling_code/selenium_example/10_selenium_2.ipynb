{
 "cells": [
  {
   "cell_type": "code",
   "execution_count": null,
   "metadata": {},
   "outputs": [],
   "source": [
    "#### 네이버 기사 제목 데이터 크롤링\n",
    "- selenium을 이용한 텍스트 데이터 수집\n",
    "- thread를 사용한 크롤링\n",
    "    - idle타임에 또다른 리퀘스트를 하며 클라이언트 서버가 놀지 않는다 => 시간단축\n",
    "    - 이렇게 컴퓨팅 파워를 관리하는것에 관심이 있다면 celery를 공부해라\n",
    "- scrapy를 이용하면 다음과 같이 설정하지 않아도 자동으로 thread를 이용해 크롤링해준다"
   ]
  },
  {
   "cell_type": "code",
   "execution_count": 1,
   "metadata": {},
   "outputs": [],
   "source": [
    "from selenium import webdriver"
   ]
  },
  {
   "cell_type": "code",
   "execution_count": 3,
   "metadata": {},
   "outputs": [],
   "source": [
    "page = 2\n",
    "\n",
    "url = 'https://news.naver.com/main/main.nhn?mode=LSD&mid=shm&sid1=105#&date=%2000:00:00&page={}'.format(page)"
   ]
  },
  {
   "cell_type": "code",
   "execution_count": 4,
   "metadata": {},
   "outputs": [],
   "source": [
    "driver =  webdriver.Chrome()\n",
    "driver.get(url)"
   ]
  },
  {
   "cell_type": "code",
   "execution_count": 5,
   "metadata": {},
   "outputs": [
    {
     "data": {
      "text/plain": [
       "20"
      ]
     },
     "execution_count": 5,
     "metadata": {},
     "output_type": "execute_result"
    }
   ],
   "source": [
    "#여러데이터 모으기\n",
    "articles = driver.find_elements_by_css_selector(\"#section_body li\")\n",
    "len(articles)"
   ]
  },
  {
   "cell_type": "code",
   "execution_count": 6,
   "metadata": {},
   "outputs": [
    {
     "data": {
      "text/plain": [
       "\"판은 한국이 깔았는데…'중국 놀이터' 된 지스타 2019 [노정동의 3분IT]\""
      ]
     },
     "execution_count": 6,
     "metadata": {},
     "output_type": "execute_result"
    }
   ],
   "source": [
    "articles[0].find_element_by_css_selector(\"dt:not(.photo) > a\").text"
   ]
  },
  {
   "cell_type": "code",
   "execution_count": 7,
   "metadata": {},
   "outputs": [],
   "source": [
    "article_list = []\n",
    "for article in articles:\n",
    "    title = article.find_element_by_css_selector(\"dt:not(.photo) > a\").text\n",
    "    article_list.append(title)"
   ]
  },
  {
   "cell_type": "code",
   "execution_count": 8,
   "metadata": {},
   "outputs": [
    {
     "data": {
      "text/plain": [
       "[\"판은 한국이 깔았는데…'중국 놀이터' 된 지스타 2019 [노정동의 3분IT]\",\n",
       " '무선 게임패드 ‘샥스’, 론칭 2달만에 가성비로 주목',\n",
       " \"'카트라이더: 드리프트', 런던서 최초 공개\",\n",
       " \"[지스타]넷마블·펄어비스 신작부스 '북적'…참여형 e스포츠 '인기'\",\n",
       " \"'韓게임, 판매는 막고 내용은 베끼고'…中게임 국내 침투 가속\",\n",
       " '정부 \"소형원전 \\'스마트\\' 상용화 의지 밝혀\" 탈원전 정책은 내수용?',\n",
       " \"문미옥 차관, 美서 소형원자로 '스마트' 우수성·수출의지 알려\",\n",
       " '신학철 LG화학 \"배터리 산업, \\'소·부·장\\'에 달렸다\"',\n",
       " '정부 AI국 신설에 \"컨트롤타워 환영...산업계와 긴밀히 소통해야\"',\n",
       " \"中 화웨이·모토로라도 폴더블폰…韓 삼성의 '한 수 아래'\",\n",
       " '\"포항지진 1년전 물 주입 중단했다면 지진 확률 1%로 줄었을 것\"',\n",
       " \"'갤폴드' 완판에 다급한 화웨이…품질논란 '메이트X' 출격\",\n",
       " '\"우주전파재난 대비 독자 위성관측 로드맵 만든다\"',\n",
       " \"삼성전자, 日서 스마트폰 시장 점유율 '상승곡선' 반등 '청신호'\",\n",
       " 'MS-서울대, 인공지능 공동 연구 나섰다',\n",
       " '[지스타 2019] 전 세계 게임이 모바일 중심으로 재편... LG전자, 듀얼 스크린 존재감 과시',\n",
       " 'LG화학 신학철 대표, “배터리 제패, 소재·부품·장비에 달렸다”',\n",
       " '소형 원자로 개발 주도국 한자리에',\n",
       " '위메이드, ‘미르의전설2’ IP 한 데 담은 플랫폼 구상',\n",
       " \"과기정통부, 초대 AI국장에 강도현 배치...'AI 국가전략' 구심체(종합)\"]"
      ]
     },
     "execution_count": 8,
     "metadata": {},
     "output_type": "execute_result"
    }
   ],
   "source": [
    "article_list"
   ]
  },
  {
   "cell_type": "code",
   "execution_count": 9,
   "metadata": {},
   "outputs": [],
   "source": [
    "driver.quit()"
   ]
  },
  {
   "cell_type": "code",
   "execution_count": 10,
   "metadata": {},
   "outputs": [],
   "source": [
    "article_list = []\n",
    "def get_articles(page):\n",
    "    driver =  webdriver.Chrome()\n",
    "    url = 'https://news.naver.com/main/main.nhn?mode=LSD&mid=shm&sid1=105#&date=%2000:00:00&page={}'.format(page)\n",
    "    driver.get(url)\n",
    "    #여러데이터 모으기\n",
    "    articles = driver.find_elements_by_css_selector(\"#section_body li\")\n",
    "    for article in articles:\n",
    "        title = article.find_element_by_css_selector(\"dt:not(.photo) > a\").text\n",
    "        article_list.append(title)\n",
    "    print(\"crawling : {}\".format(page))\n",
    "    driver.quit()"
   ]
  },
  {
   "cell_type": "code",
   "execution_count": 11,
   "metadata": {},
   "outputs": [
    {
     "name": "stdout",
     "output_type": "stream",
     "text": [
      "crawling : 1\n",
      "crawling : 2\n",
      "crawling : 3\n",
      "crawling : 4\n",
      "Wall time: 38.7 s\n"
     ]
    }
   ],
   "source": [
    "%%time\n",
    "for page in range(1,5):\n",
    "    get_articles(page)"
   ]
  },
  {
   "cell_type": "code",
   "execution_count": 13,
   "metadata": {},
   "outputs": [
    {
     "data": {
      "text/plain": [
       "[\"5년 뒤 9兆 시장…'게임체인저' 주목받는 클라우드게임\",\n",
       " '\"소규모 지진 때 지열발전 멈췄다면…포항지진 확률 1%에 불과했을 것\"',\n",
       " '\"영하 5도 이하에선 접지 말라\"…그래도 1분만에 \\'매진\\'된 메이트X']"
      ]
     },
     "execution_count": 13,
     "metadata": {},
     "output_type": "execute_result"
    }
   ],
   "source": [
    "article_list[:3]"
   ]
  },
  {
   "cell_type": "markdown",
   "metadata": {},
   "source": [
    "#### thread 사용"
   ]
  },
  {
   "cell_type": "code",
   "execution_count": 16,
   "metadata": {},
   "outputs": [],
   "source": [
    "import threading"
   ]
  },
  {
   "cell_type": "code",
   "execution_count": 19,
   "metadata": {},
   "outputs": [],
   "source": [
    "article_list = []\n",
    "\n",
    "for page in range(1,5):\n",
    "    th = threading.Thread(target=get_articles, args=(page,))  #실행시킬 함수의 이름, (page,)=>데이터가 하나있는 튜플\n",
    "    th.start()"
   ]
  },
  {
   "cell_type": "code",
   "execution_count": 20,
   "metadata": {},
   "outputs": [
    {
     "name": "stdout",
     "output_type": "stream",
     "text": [
      "1 2 3 4 5 6 7 8 9 10 11 12 crawling : 3\n",
      "13 crawling : 4\n",
      "crawling : 2\n",
      "crawling : 1\n",
      "14 "
     ]
    }
   ],
   "source": [
    "import time\n",
    "sec = 0\n",
    "while len(article_list)< 80:\n",
    "    time.sleep(1)\n",
    "    sec +=1     #1초마다 sec이 1씩 증가\n",
    "    print(sec, end=\" \")"
   ]
  },
  {
   "cell_type": "code",
   "execution_count": null,
   "metadata": {},
   "outputs": [],
   "source": []
  }
 ],
 "metadata": {
  "kernelspec": {
   "display_name": "Python 3",
   "language": "python",
   "name": "python3"
  },
  "language_info": {
   "codemirror_mode": {
    "name": "ipython",
    "version": 3
   },
   "file_extension": ".py",
   "mimetype": "text/x-python",
   "name": "python",
   "nbconvert_exporter": "python",
   "pygments_lexer": "ipython3",
   "version": "3.7.4"
  }
 },
 "nbformat": 4,
 "nbformat_minor": 2
}
