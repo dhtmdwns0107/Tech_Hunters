{
 "cells": [
  {
   "cell_type": "code",
   "execution_count": 22,
   "metadata": {},
   "outputs": [],
   "source": [
    "#H2에 연결하려고 했으나 오류로 인해 연결실패\n",
    "# import jaydebeapi\n",
    "# conn = jaydebeapi.connect(\"org.h2.Driver\", # driver class\n",
    "#                            \"jdbc:h2:tcp://localhost/~/test\", # JDBC url\n",
    "#                            [\"sa\", \"\"], # credentials\n",
    "#                            \"h2-1.4.200.jar\") # location of H2 jar\n",
    "# try:\n",
    "#         curs = conn.cursor()\n",
    "#         # Fetch the last 10 timestamps\n",
    "#         curs.execute(\"SELECT TIMER FROM \\\"WR_data\\\" ORDER BY TIMER DESC LIMIT 10\")\n",
    "#         for value in curs.fetchall():\n",
    "#                 # the values are returned as wrapped java.lang.Long instances\n",
    "#                 # invoke the toString() method to print them\n",
    "#                 print(value[0].toString())\n",
    "# finally:\n",
    "#         if curs is not None:\n",
    "#                 curs.close()\n",
    "#         if conn is not None:\n",
    "#                 conn.close()"
   ]
  },
  {
   "cell_type": "code",
   "execution_count": 2,
   "metadata": {},
   "outputs": [
    {
     "name": "stdout",
     "output_type": "stream",
     "text": [
      "Collecting pymongo==2.8.1\n",
      "Installing collected packages: pymongo\n",
      "Successfully installed pymongo-2.8.1\n",
      "Note: you may need to restart the kernel to use updated packages.\n"
     ]
    }
   ],
   "source": [
    "# pip install pymongo==2.8.1"
   ]
  },
  {
   "cell_type": "code",
   "execution_count": 3,
   "metadata": {},
   "outputs": [],
   "source": [
    "import pymongo\n",
    "import pandas as pd\n",
    "import requests"
   ]
  },
  {
   "cell_type": "code",
   "execution_count": 4,
   "metadata": {},
   "outputs": [],
   "source": [
    "from pymongo import MongoClient \n",
    "client = MongoClient()\n"
   ]
  },
  {
   "cell_type": "code",
   "execution_count": 6,
   "metadata": {},
   "outputs": [
    {
     "data": {
      "text/plain": [
       "MongoClient('localhost', 27017)"
      ]
     },
     "execution_count": 6,
     "metadata": {},
     "output_type": "execute_result"
    }
   ],
   "source": [
    "# client = pymongo.MongoClient(\"mongodb://15.165.1.169:27017/\")\n",
    "client = pymongo.MongoClient(\"mongodb://localhost:27017/\")\n",
    "client"
   ]
  },
  {
   "cell_type": "code",
   "execution_count": null,
   "metadata": {},
   "outputs": [],
   "source": []
  }
 ],
 "metadata": {
  "kernelspec": {
   "display_name": "Python 3",
   "language": "python",
   "name": "python3"
  },
  "language_info": {
   "codemirror_mode": {
    "name": "ipython",
    "version": 3
   },
   "file_extension": ".py",
   "mimetype": "text/x-python",
   "name": "python",
   "nbconvert_exporter": "python",
   "pygments_lexer": "ipython3",
   "version": "3.7.4"
  }
 },
 "nbformat": 4,
 "nbformat_minor": 2
}
